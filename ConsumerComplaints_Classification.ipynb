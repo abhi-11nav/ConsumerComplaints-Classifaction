{
  "cells": [
    {
      "cell_type": "markdown",
      "metadata": {
        "id": "view-in-github",
        "colab_type": "text"
      },
      "source": [
        "<a href=\"https://colab.research.google.com/github/abhi-11nav/ConsumerComplaints-Classifaction/blob/main/ConsumerComplaints_Classification.ipynb\" target=\"_parent\"><img src=\"https://colab.research.google.com/assets/colab-badge.svg\" alt=\"Open In Colab\"/></a>"
      ]
    },
    {
      "cell_type": "markdown",
      "metadata": {
        "id": "pPvkbgb8eYfe"
      },
      "source": [
        "# Dataset Credits:\n",
        "\n",
        "https://www.kaggle.com/datasets/shashwatwork/consume-complaints-dataset-fo-nlp"
      ]
    },
    {
      "cell_type": "code",
      "execution_count": 1,
      "metadata": {
        "id": "XwMQXTZrePUv"
      },
      "outputs": [],
      "source": [
        "# Importing libraries for dataset manipulations\n",
        "\n",
        "import pandas as pd \n",
        "import numpy as np "
      ]
    },
    {
      "cell_type": "code",
      "execution_count": 2,
      "metadata": {
        "colab": {
          "base_uri": "https://localhost:8080/"
        },
        "id": "QhsUXH6hei10",
        "outputId": "05872ac4-5963-45a6-c22b-a4d3dabe7422"
      },
      "outputs": [
        {
          "output_type": "stream",
          "name": "stdout",
          "text": [
            "fatal: destination path 'ConsumerComplaints-Classifaction' already exists and is not an empty directory.\n"
          ]
        }
      ],
      "source": [
        "# Cloning the github repository\n",
        "\n",
        "!git clone https://github.com/abhi-11nav/ConsumerComplaints-Classifaction.git"
      ]
    },
    {
      "cell_type": "code",
      "execution_count": 3,
      "metadata": {
        "id": "oZfL4W0lerkj"
      },
      "outputs": [],
      "source": [
        "# Importing the data and storing it in a varibale (data)\n",
        "\n",
        "data = pd.read_csv(\"/content/ConsumerComplaints-Classifaction/complaints_processed.csv\")"
      ]
    },
    {
      "cell_type": "code",
      "execution_count": 4,
      "metadata": {
        "colab": {
          "base_uri": "https://localhost:8080/",
          "height": 359
        },
        "id": "N2iYmMNNew5w",
        "outputId": "69e4c800-9c63-48e4-d618-edfd3307e5cf"
      },
      "outputs": [
        {
          "output_type": "execute_result",
          "data": {
            "text/plain": [
              "   Unnamed: 0           product  \\\n",
              "0           0       credit_card   \n",
              "1           1       credit_card   \n",
              "2           2    retail_banking   \n",
              "3           3  credit_reporting   \n",
              "4           4  credit_reporting   \n",
              "5           5  credit_reporting   \n",
              "6           6  credit_reporting   \n",
              "7           7  credit_reporting   \n",
              "8           8  credit_reporting   \n",
              "9           9  credit_reporting   \n",
              "\n",
              "                                           narrative  \n",
              "0  purchase order day shipping amount receive pro...  \n",
              "1  forwarded message date tue subject please inve...  \n",
              "2  forwarded message cc sent friday pdt subject f...  \n",
              "3  payment history missing credit report speciali...  \n",
              "4  payment history missing credit report made mis...  \n",
              "5  payment history missing credit report made mis...  \n",
              "6  va date complaint experian credit bureau invol...  \n",
              "7  account reported abbreviated name full name se...  \n",
              "8  account reported abbreviated name full name se...  \n",
              "9  usdoexxxx account reported abbreviated name fu...  "
            ],
            "text/html": [
              "\n",
              "  <div id=\"df-610f191d-ae2e-4982-9c5e-09fdb8daae94\">\n",
              "    <div class=\"colab-df-container\">\n",
              "      <div>\n",
              "<style scoped>\n",
              "    .dataframe tbody tr th:only-of-type {\n",
              "        vertical-align: middle;\n",
              "    }\n",
              "\n",
              "    .dataframe tbody tr th {\n",
              "        vertical-align: top;\n",
              "    }\n",
              "\n",
              "    .dataframe thead th {\n",
              "        text-align: right;\n",
              "    }\n",
              "</style>\n",
              "<table border=\"1\" class=\"dataframe\">\n",
              "  <thead>\n",
              "    <tr style=\"text-align: right;\">\n",
              "      <th></th>\n",
              "      <th>Unnamed: 0</th>\n",
              "      <th>product</th>\n",
              "      <th>narrative</th>\n",
              "    </tr>\n",
              "  </thead>\n",
              "  <tbody>\n",
              "    <tr>\n",
              "      <th>0</th>\n",
              "      <td>0</td>\n",
              "      <td>credit_card</td>\n",
              "      <td>purchase order day shipping amount receive pro...</td>\n",
              "    </tr>\n",
              "    <tr>\n",
              "      <th>1</th>\n",
              "      <td>1</td>\n",
              "      <td>credit_card</td>\n",
              "      <td>forwarded message date tue subject please inve...</td>\n",
              "    </tr>\n",
              "    <tr>\n",
              "      <th>2</th>\n",
              "      <td>2</td>\n",
              "      <td>retail_banking</td>\n",
              "      <td>forwarded message cc sent friday pdt subject f...</td>\n",
              "    </tr>\n",
              "    <tr>\n",
              "      <th>3</th>\n",
              "      <td>3</td>\n",
              "      <td>credit_reporting</td>\n",
              "      <td>payment history missing credit report speciali...</td>\n",
              "    </tr>\n",
              "    <tr>\n",
              "      <th>4</th>\n",
              "      <td>4</td>\n",
              "      <td>credit_reporting</td>\n",
              "      <td>payment history missing credit report made mis...</td>\n",
              "    </tr>\n",
              "    <tr>\n",
              "      <th>5</th>\n",
              "      <td>5</td>\n",
              "      <td>credit_reporting</td>\n",
              "      <td>payment history missing credit report made mis...</td>\n",
              "    </tr>\n",
              "    <tr>\n",
              "      <th>6</th>\n",
              "      <td>6</td>\n",
              "      <td>credit_reporting</td>\n",
              "      <td>va date complaint experian credit bureau invol...</td>\n",
              "    </tr>\n",
              "    <tr>\n",
              "      <th>7</th>\n",
              "      <td>7</td>\n",
              "      <td>credit_reporting</td>\n",
              "      <td>account reported abbreviated name full name se...</td>\n",
              "    </tr>\n",
              "    <tr>\n",
              "      <th>8</th>\n",
              "      <td>8</td>\n",
              "      <td>credit_reporting</td>\n",
              "      <td>account reported abbreviated name full name se...</td>\n",
              "    </tr>\n",
              "    <tr>\n",
              "      <th>9</th>\n",
              "      <td>9</td>\n",
              "      <td>credit_reporting</td>\n",
              "      <td>usdoexxxx account reported abbreviated name fu...</td>\n",
              "    </tr>\n",
              "  </tbody>\n",
              "</table>\n",
              "</div>\n",
              "      <button class=\"colab-df-convert\" onclick=\"convertToInteractive('df-610f191d-ae2e-4982-9c5e-09fdb8daae94')\"\n",
              "              title=\"Convert this dataframe to an interactive table.\"\n",
              "              style=\"display:none;\">\n",
              "        \n",
              "  <svg xmlns=\"http://www.w3.org/2000/svg\" height=\"24px\"viewBox=\"0 0 24 24\"\n",
              "       width=\"24px\">\n",
              "    <path d=\"M0 0h24v24H0V0z\" fill=\"none\"/>\n",
              "    <path d=\"M18.56 5.44l.94 2.06.94-2.06 2.06-.94-2.06-.94-.94-2.06-.94 2.06-2.06.94zm-11 1L8.5 8.5l.94-2.06 2.06-.94-2.06-.94L8.5 2.5l-.94 2.06-2.06.94zm10 10l.94 2.06.94-2.06 2.06-.94-2.06-.94-.94-2.06-.94 2.06-2.06.94z\"/><path d=\"M17.41 7.96l-1.37-1.37c-.4-.4-.92-.59-1.43-.59-.52 0-1.04.2-1.43.59L10.3 9.45l-7.72 7.72c-.78.78-.78 2.05 0 2.83L4 21.41c.39.39.9.59 1.41.59.51 0 1.02-.2 1.41-.59l7.78-7.78 2.81-2.81c.8-.78.8-2.07 0-2.86zM5.41 20L4 18.59l7.72-7.72 1.47 1.35L5.41 20z\"/>\n",
              "  </svg>\n",
              "      </button>\n",
              "      \n",
              "  <style>\n",
              "    .colab-df-container {\n",
              "      display:flex;\n",
              "      flex-wrap:wrap;\n",
              "      gap: 12px;\n",
              "    }\n",
              "\n",
              "    .colab-df-convert {\n",
              "      background-color: #E8F0FE;\n",
              "      border: none;\n",
              "      border-radius: 50%;\n",
              "      cursor: pointer;\n",
              "      display: none;\n",
              "      fill: #1967D2;\n",
              "      height: 32px;\n",
              "      padding: 0 0 0 0;\n",
              "      width: 32px;\n",
              "    }\n",
              "\n",
              "    .colab-df-convert:hover {\n",
              "      background-color: #E2EBFA;\n",
              "      box-shadow: 0px 1px 2px rgba(60, 64, 67, 0.3), 0px 1px 3px 1px rgba(60, 64, 67, 0.15);\n",
              "      fill: #174EA6;\n",
              "    }\n",
              "\n",
              "    [theme=dark] .colab-df-convert {\n",
              "      background-color: #3B4455;\n",
              "      fill: #D2E3FC;\n",
              "    }\n",
              "\n",
              "    [theme=dark] .colab-df-convert:hover {\n",
              "      background-color: #434B5C;\n",
              "      box-shadow: 0px 1px 3px 1px rgba(0, 0, 0, 0.15);\n",
              "      filter: drop-shadow(0px 1px 2px rgba(0, 0, 0, 0.3));\n",
              "      fill: #FFFFFF;\n",
              "    }\n",
              "  </style>\n",
              "\n",
              "      <script>\n",
              "        const buttonEl =\n",
              "          document.querySelector('#df-610f191d-ae2e-4982-9c5e-09fdb8daae94 button.colab-df-convert');\n",
              "        buttonEl.style.display =\n",
              "          google.colab.kernel.accessAllowed ? 'block' : 'none';\n",
              "\n",
              "        async function convertToInteractive(key) {\n",
              "          const element = document.querySelector('#df-610f191d-ae2e-4982-9c5e-09fdb8daae94');\n",
              "          const dataTable =\n",
              "            await google.colab.kernel.invokeFunction('convertToInteractive',\n",
              "                                                     [key], {});\n",
              "          if (!dataTable) return;\n",
              "\n",
              "          const docLinkHtml = 'Like what you see? Visit the ' +\n",
              "            '<a target=\"_blank\" href=https://colab.research.google.com/notebooks/data_table.ipynb>data table notebook</a>'\n",
              "            + ' to learn more about interactive tables.';\n",
              "          element.innerHTML = '';\n",
              "          dataTable['output_type'] = 'display_data';\n",
              "          await google.colab.output.renderOutput(dataTable, element);\n",
              "          const docLink = document.createElement('div');\n",
              "          docLink.innerHTML = docLinkHtml;\n",
              "          element.appendChild(docLink);\n",
              "        }\n",
              "      </script>\n",
              "    </div>\n",
              "  </div>\n",
              "  "
            ]
          },
          "metadata": {},
          "execution_count": 4
        }
      ],
      "source": [
        "# Peeking at the data (first few columns)\n",
        "\n",
        "data.head(10)"
      ]
    },
    {
      "cell_type": "code",
      "source": [
        "data.iloc[4].isna()"
      ],
      "metadata": {
        "id": "e9TJGiHyVCbn",
        "outputId": "85c88707-b6e1-4a0e-fae6-7521c5168c63",
        "colab": {
          "base_uri": "https://localhost:8080/"
        }
      },
      "execution_count": 5,
      "outputs": [
        {
          "output_type": "execute_result",
          "data": {
            "text/plain": [
              "Unnamed: 0    False\n",
              "product       False\n",
              "narrative     False\n",
              "Name: 4, dtype: bool"
            ]
          },
          "metadata": {},
          "execution_count": 5
        }
      ]
    },
    {
      "cell_type": "code",
      "execution_count": 6,
      "metadata": {
        "id": "2U8HvP8le34T"
      },
      "outputs": [],
      "source": [
        "# Dropping the duplicate column (Unnamed:0)\n",
        "\n",
        "data.drop('Unnamed: 0', axis=1, inplace=True)"
      ]
    },
    {
      "cell_type": "code",
      "execution_count": 7,
      "metadata": {
        "colab": {
          "base_uri": "https://localhost:8080/",
          "height": 204
        },
        "id": "8M3RW3YvfFrx",
        "outputId": "c851e7b7-0954-4628-8469-2d27270f53fd"
      },
      "outputs": [
        {
          "output_type": "execute_result",
          "data": {
            "text/plain": [
              "            product                                          narrative\n",
              "0       credit_card  purchase order day shipping amount receive pro...\n",
              "1       credit_card  forwarded message date tue subject please inve...\n",
              "2    retail_banking  forwarded message cc sent friday pdt subject f...\n",
              "3  credit_reporting  payment history missing credit report speciali...\n",
              "4  credit_reporting  payment history missing credit report made mis..."
            ],
            "text/html": [
              "\n",
              "  <div id=\"df-2f0c2e7e-5f85-4120-8bd3-8c01e410a449\">\n",
              "    <div class=\"colab-df-container\">\n",
              "      <div>\n",
              "<style scoped>\n",
              "    .dataframe tbody tr th:only-of-type {\n",
              "        vertical-align: middle;\n",
              "    }\n",
              "\n",
              "    .dataframe tbody tr th {\n",
              "        vertical-align: top;\n",
              "    }\n",
              "\n",
              "    .dataframe thead th {\n",
              "        text-align: right;\n",
              "    }\n",
              "</style>\n",
              "<table border=\"1\" class=\"dataframe\">\n",
              "  <thead>\n",
              "    <tr style=\"text-align: right;\">\n",
              "      <th></th>\n",
              "      <th>product</th>\n",
              "      <th>narrative</th>\n",
              "    </tr>\n",
              "  </thead>\n",
              "  <tbody>\n",
              "    <tr>\n",
              "      <th>0</th>\n",
              "      <td>credit_card</td>\n",
              "      <td>purchase order day shipping amount receive pro...</td>\n",
              "    </tr>\n",
              "    <tr>\n",
              "      <th>1</th>\n",
              "      <td>credit_card</td>\n",
              "      <td>forwarded message date tue subject please inve...</td>\n",
              "    </tr>\n",
              "    <tr>\n",
              "      <th>2</th>\n",
              "      <td>retail_banking</td>\n",
              "      <td>forwarded message cc sent friday pdt subject f...</td>\n",
              "    </tr>\n",
              "    <tr>\n",
              "      <th>3</th>\n",
              "      <td>credit_reporting</td>\n",
              "      <td>payment history missing credit report speciali...</td>\n",
              "    </tr>\n",
              "    <tr>\n",
              "      <th>4</th>\n",
              "      <td>credit_reporting</td>\n",
              "      <td>payment history missing credit report made mis...</td>\n",
              "    </tr>\n",
              "  </tbody>\n",
              "</table>\n",
              "</div>\n",
              "      <button class=\"colab-df-convert\" onclick=\"convertToInteractive('df-2f0c2e7e-5f85-4120-8bd3-8c01e410a449')\"\n",
              "              title=\"Convert this dataframe to an interactive table.\"\n",
              "              style=\"display:none;\">\n",
              "        \n",
              "  <svg xmlns=\"http://www.w3.org/2000/svg\" height=\"24px\"viewBox=\"0 0 24 24\"\n",
              "       width=\"24px\">\n",
              "    <path d=\"M0 0h24v24H0V0z\" fill=\"none\"/>\n",
              "    <path d=\"M18.56 5.44l.94 2.06.94-2.06 2.06-.94-2.06-.94-.94-2.06-.94 2.06-2.06.94zm-11 1L8.5 8.5l.94-2.06 2.06-.94-2.06-.94L8.5 2.5l-.94 2.06-2.06.94zm10 10l.94 2.06.94-2.06 2.06-.94-2.06-.94-.94-2.06-.94 2.06-2.06.94z\"/><path d=\"M17.41 7.96l-1.37-1.37c-.4-.4-.92-.59-1.43-.59-.52 0-1.04.2-1.43.59L10.3 9.45l-7.72 7.72c-.78.78-.78 2.05 0 2.83L4 21.41c.39.39.9.59 1.41.59.51 0 1.02-.2 1.41-.59l7.78-7.78 2.81-2.81c.8-.78.8-2.07 0-2.86zM5.41 20L4 18.59l7.72-7.72 1.47 1.35L5.41 20z\"/>\n",
              "  </svg>\n",
              "      </button>\n",
              "      \n",
              "  <style>\n",
              "    .colab-df-container {\n",
              "      display:flex;\n",
              "      flex-wrap:wrap;\n",
              "      gap: 12px;\n",
              "    }\n",
              "\n",
              "    .colab-df-convert {\n",
              "      background-color: #E8F0FE;\n",
              "      border: none;\n",
              "      border-radius: 50%;\n",
              "      cursor: pointer;\n",
              "      display: none;\n",
              "      fill: #1967D2;\n",
              "      height: 32px;\n",
              "      padding: 0 0 0 0;\n",
              "      width: 32px;\n",
              "    }\n",
              "\n",
              "    .colab-df-convert:hover {\n",
              "      background-color: #E2EBFA;\n",
              "      box-shadow: 0px 1px 2px rgba(60, 64, 67, 0.3), 0px 1px 3px 1px rgba(60, 64, 67, 0.15);\n",
              "      fill: #174EA6;\n",
              "    }\n",
              "\n",
              "    [theme=dark] .colab-df-convert {\n",
              "      background-color: #3B4455;\n",
              "      fill: #D2E3FC;\n",
              "    }\n",
              "\n",
              "    [theme=dark] .colab-df-convert:hover {\n",
              "      background-color: #434B5C;\n",
              "      box-shadow: 0px 1px 3px 1px rgba(0, 0, 0, 0.15);\n",
              "      filter: drop-shadow(0px 1px 2px rgba(0, 0, 0, 0.3));\n",
              "      fill: #FFFFFF;\n",
              "    }\n",
              "  </style>\n",
              "\n",
              "      <script>\n",
              "        const buttonEl =\n",
              "          document.querySelector('#df-2f0c2e7e-5f85-4120-8bd3-8c01e410a449 button.colab-df-convert');\n",
              "        buttonEl.style.display =\n",
              "          google.colab.kernel.accessAllowed ? 'block' : 'none';\n",
              "\n",
              "        async function convertToInteractive(key) {\n",
              "          const element = document.querySelector('#df-2f0c2e7e-5f85-4120-8bd3-8c01e410a449');\n",
              "          const dataTable =\n",
              "            await google.colab.kernel.invokeFunction('convertToInteractive',\n",
              "                                                     [key], {});\n",
              "          if (!dataTable) return;\n",
              "\n",
              "          const docLinkHtml = 'Like what you see? Visit the ' +\n",
              "            '<a target=\"_blank\" href=https://colab.research.google.com/notebooks/data_table.ipynb>data table notebook</a>'\n",
              "            + ' to learn more about interactive tables.';\n",
              "          element.innerHTML = '';\n",
              "          dataTable['output_type'] = 'display_data';\n",
              "          await google.colab.output.renderOutput(dataTable, element);\n",
              "          const docLink = document.createElement('div');\n",
              "          docLink.innerHTML = docLinkHtml;\n",
              "          element.appendChild(docLink);\n",
              "        }\n",
              "      </script>\n",
              "    </div>\n",
              "  </div>\n",
              "  "
            ]
          },
          "metadata": {},
          "execution_count": 7
        }
      ],
      "source": [
        "# Verifying that the column is dropped\n",
        "\n",
        "data.head()"
      ]
    },
    {
      "cell_type": "code",
      "execution_count": 8,
      "metadata": {
        "colab": {
          "base_uri": "https://localhost:8080/"
        },
        "id": "-91_Kt5TfGdC",
        "outputId": "0196573f-f812-4066-8d45-8f779ec98acd"
      },
      "outputs": [
        {
          "output_type": "execute_result",
          "data": {
            "text/plain": [
              "(162421, 2)"
            ]
          },
          "metadata": {},
          "execution_count": 8
        }
      ],
      "source": [
        "# Shape of the data \n",
        "\n",
        "data.shape"
      ]
    },
    {
      "cell_type": "code",
      "execution_count": 9,
      "metadata": {
        "colab": {
          "base_uri": "https://localhost:8080/"
        },
        "id": "71fDIvPmfTOM",
        "outputId": "17eb67f7-b40f-4051-fc02-6414e312d69d"
      },
      "outputs": [
        {
          "output_type": "execute_result",
          "data": {
            "text/plain": [
              "credit_reporting       91179\n",
              "debt_collection        23150\n",
              "mortgages_and_loans    18990\n",
              "credit_card            15566\n",
              "retail_banking         13536\n",
              "Name: product, dtype: int64"
            ]
          },
          "metadata": {},
          "execution_count": 9
        }
      ],
      "source": [
        "# Number of categories to be classified \n",
        "\n",
        "data['product'].value_counts()"
      ]
    },
    {
      "cell_type": "code",
      "execution_count": 10,
      "metadata": {
        "id": "JGxgwONeo035"
      },
      "outputs": [],
      "source": [
        "# Dropping all null values\n",
        "\n",
        "\n",
        "data.dropna(inplace=True)\n"
      ]
    },
    {
      "cell_type": "code",
      "execution_count": 11,
      "metadata": {
        "colab": {
          "base_uri": "https://localhost:8080/"
        },
        "id": "5vd4b7d6t7QR",
        "outputId": "1d3267fa-02c1-4923-b2f6-c2d4b53ec85c"
      },
      "outputs": [
        {
          "output_type": "stream",
          "name": "stdout",
          "text": [
            "No missing values: good to go ahead\n"
          ]
        }
      ],
      "source": [
        "missing_val_count = 0 \n",
        "\n",
        "if data[\"narrative\"].isna().any() == True:\n",
        "\n",
        "  missing_val_count += 1\n",
        "  \n",
        "if missing_val_count>0:\n",
        "  print(\"Yes there exists null values\", missing_val_count)\n",
        "else:\n",
        "  print(\"No missing values: good to go ahead\")"
      ]
    },
    {
      "cell_type": "code",
      "execution_count": 12,
      "metadata": {
        "id": "Y_XFitBLLRzL",
        "colab": {
          "base_uri": "https://localhost:8080/"
        },
        "outputId": "9b810270-a767-4be6-dfeb-1836400d117e"
      },
      "outputs": [
        {
          "output_type": "execute_result",
          "data": {
            "text/plain": [
              "162411"
            ]
          },
          "metadata": {},
          "execution_count": 12
        }
      ],
      "source": [
        "len(data)"
      ]
    },
    {
      "cell_type": "markdown",
      "metadata": {
        "id": "dCoRi2a9B8qs"
      },
      "source": [
        "## Observation:\n",
        "\n",
        "We can observe that there is a dominance of \"credit reporting\" category in product class. Let us search for duplicate and or data with similar semantic meanings in the data. \n",
        "\n",
        "First, let's do some text preprocessing to clean the data (converting to lower case, removal of punctuations, etc)."
      ]
    },
    {
      "cell_type": "markdown",
      "metadata": {
        "id": "79C9vRiFoqSZ"
      },
      "source": [
        "# TEXT PREPROCESSING \n",
        "### DO NOT EXECUTE"
      ]
    },
    {
      "cell_type": "code",
      "execution_count": null,
      "metadata": {
        "id": "LJyvoMy6Dnib"
      },
      "outputs": [],
      "source": [
        "# Storing the text in a list. \n",
        "\n",
        "narrative = [text for text in data['narrative']]"
      ]
    },
    {
      "cell_type": "code",
      "execution_count": null,
      "metadata": {
        "colab": {
          "base_uri": "https://localhost:8080/"
        },
        "id": "nFC63zrrDnlf",
        "outputId": "1b520a01-6b00-411e-ec8d-3a00859d7f0a"
      },
      "outputs": [
        {
          "output_type": "stream",
          "name": "stderr",
          "text": [
            "[nltk_data] Downloading package stopwords to /root/nltk_data...\n",
            "[nltk_data]   Unzipping corpora/stopwords.zip.\n",
            "[nltk_data] Downloading package wordnet to /root/nltk_data...\n",
            "[nltk_data] Downloading package omw-1.4 to /root/nltk_data...\n"
          ]
        },
        {
          "output_type": "execute_result",
          "data": {
            "text/plain": [
              "True"
            ]
          },
          "metadata": {},
          "execution_count": 13
        }
      ],
      "source": [
        "# Importing the libraries required for text preprocessing \n",
        "\n",
        "import re \n",
        "\n",
        "import nltk \n",
        "from nltk.stem import WordNetLemmatizer\n",
        "from nltk.corpus import stopwords\n",
        "\n",
        "nltk.download('stopwords')\n",
        "nltk.download('wordnet')\n",
        "nltk.download('omw-1.4')"
      ]
    },
    {
      "cell_type": "code",
      "execution_count": null,
      "metadata": {
        "id": "eUmp-Z2NDnoU"
      },
      "outputs": [],
      "source": [
        "# Creating an object for WordNetLemmatizer \n",
        "\n",
        "lemmatizer = WordNetLemmatizer()"
      ]
    },
    {
      "cell_type": "code",
      "execution_count": null,
      "metadata": {
        "colab": {
          "base_uri": "https://localhost:8080/"
        },
        "id": "hfYmkrwIflkw",
        "outputId": "c369060f-634a-4a7b-91ac-73d5410ad9b6"
      },
      "outputs": [
        {
          "output_type": "stream",
          "name": "stderr",
          "text": [
            "100%|██████████| 162411/162411 [00:04<00:00, 34207.58it/s]\n"
          ]
        }
      ],
      "source": [
        "# Library for computing runtime \n",
        "from tqdm import tqdm\n",
        "\n",
        "\n",
        "# Getting rid of all punctuations and numeric values in the data. Also convert the data into lower case. \n",
        "for index in tqdm(range(0,len(narrative))):\n",
        "  temp_variable = (re.sub('[^a-zA-Z]',' ',str(narrative[index])))\n",
        "  narrative[index] = \" \".join(word for word in str(narrative[index]).split()).lower()"
      ]
    },
    {
      "cell_type": "code",
      "execution_count": null,
      "metadata": {
        "colab": {
          "base_uri": "https://localhost:8080/"
        },
        "id": "Jqz_EdfVHKwS",
        "outputId": "e0c53d74-da12-4512-b4a9-ef7d61c4a842"
      },
      "outputs": [
        {
          "output_type": "stream",
          "name": "stderr",
          "text": [
            "  1%|          | 1005/162411 [00:20<30:38, 87.79it/s]"
          ]
        }
      ],
      "source": [
        "# Applying lemmatization and removing the stopwords.\n",
        "\n",
        "from tqdm import tqdm \n",
        "\n",
        "\n",
        "for index in tqdm(range(len(narrative))):\n",
        "  temp_list = []\n",
        "  for word in narrative[index].split():\n",
        "    if word not in stopwords.words(\"english\"):\n",
        "      temp_list.append(word)\n",
        "  narrative[index] = \" \".join(lemmatizer.lemmatize(words) for words in temp_list) \n",
        "\n",
        "\n",
        "  # Already performed the operation once and store the data in \"processex_text.csv\""
      ]
    },
    {
      "cell_type": "code",
      "execution_count": null,
      "metadata": {
        "id": "Sf30uQ7aQDIY"
      },
      "outputs": [],
      "source": [
        "# Saving the processed text in excel file \n",
        "\n",
        "pd.DataFrame(narrative).to_csv(\"processed_text.csv\")"
      ]
    },
    {
      "cell_type": "markdown",
      "metadata": {
        "id": "akNQzC7ECdHd"
      },
      "source": [
        "## Jaccard Similary on \"credit_reporting\" category. "
      ]
    },
    {
      "cell_type": "code",
      "execution_count": null,
      "metadata": {
        "id": "Ln9EZJ1-RQCd"
      },
      "outputs": [],
      "source": [
        "arr = [[1,1,1,0,0,0],[0,1,0,0,0,0],[1,1,1,0,0,0],[0,0,2,4,4,0],[0,0,0,2,0,0],[0,0,1,2,4,0]]"
      ]
    },
    {
      "cell_type": "code",
      "execution_count": null,
      "metadata": {
        "id": "4NY-ata2RY-W"
      },
      "outputs": [],
      "source": [
        "arr"
      ]
    },
    {
      "cell_type": "code",
      "execution_count": null,
      "metadata": {
        "id": "R9kGdGOvRPBJ"
      },
      "outputs": [],
      "source": [
        "def hourglassSum(arr):\n",
        "    # Write your code here\n",
        "    num, sum_ = 1,0\n",
        "    list_ = []\n",
        "    n=0\n",
        "    while(n<len(arr[0])-4):\n",
        "        for i in range(len(arr[0+n:3+n])):\n",
        "            for j in range(len(arr[0+n:3+n])):\n",
        "                sum_ += arr[i][j];\n",
        "        n+=1\n",
        "        list_.append(sum_)\n",
        "    return max(list_)"
      ]
    },
    {
      "cell_type": "code",
      "execution_count": null,
      "metadata": {
        "id": "gKaCa9N3RezE"
      },
      "outputs": [],
      "source": [
        "print(hourglassSum(arr))"
      ]
    },
    {
      "cell_type": "code",
      "execution_count": null,
      "metadata": {
        "id": "xGLs6pUkDp4s"
      },
      "outputs": [],
      "source": [
        "print(\"There are a total of\",len(narrative),\"sentences\")"
      ]
    },
    {
      "cell_type": "code",
      "execution_count": null,
      "metadata": {
        "id": "BA7gYjk0CXYz"
      },
      "outputs": [],
      "source": [
        "def jaccard_similarity(document1, document2):\n",
        "  a = set(document1.split())\n",
        "  b = set(document2.split())\n",
        "\n",
        "  c = a.intersection(b)\n",
        "\n",
        "  return len(c)/ (len(a)+len(b)-len(c))"
      ]
    },
    {
      "cell_type": "code",
      "execution_count": null,
      "metadata": {
        "id": "zYK5MC40W0de"
      },
      "outputs": [],
      "source": [
        "from tqdm import tqdm\n",
        "\n",
        "si = narrative\n",
        "\n",
        "for index in tqdm(range(len(narrative))):\n",
        "  for each in range(len(narrative)):\n",
        "    if jaccard_similarity(str(narrative[index]), str(narrative[each])) > 0.9:\n",
        "      si[index] = \"duplicate\""
      ]
    },
    {
      "cell_type": "code",
      "execution_count": null,
      "metadata": {
        "id": "n1luWMUfYyeM"
      },
      "outputs": [],
      "source": [
        "jaccard_similarity(narrative[0],narrative[7324])"
      ]
    },
    {
      "cell_type": "code",
      "execution_count": null,
      "metadata": {
        "id": "VQK_8Sxdp1G5"
      },
      "outputs": [],
      "source": [
        "narrative[0]"
      ]
    },
    {
      "cell_type": "code",
      "execution_count": null,
      "metadata": {
        "id": "IwOC4WymbT3X"
      },
      "outputs": [],
      "source": []
    },
    {
      "cell_type": "code",
      "execution_count": null,
      "metadata": {
        "id": "FKc0cBXBppAR"
      },
      "outputs": [],
      "source": [
        "from tqdm import tqdm "
      ]
    },
    {
      "cell_type": "markdown",
      "metadata": {
        "id": "8zAf-XybbUdC"
      },
      "source": [
        "#WORD2VEC MODEL"
      ]
    },
    {
      "cell_type": "code",
      "execution_count": null,
      "metadata": {
        "id": "xXiOWT8wp0fj",
        "colab": {
          "base_uri": "https://localhost:8080/"
        },
        "outputId": "1e037ef2-11bd-4151-e28c-bdbc7a7a4fe9"
      },
      "outputs": [
        {
          "output_type": "stream",
          "name": "stderr",
          "text": [
            "[nltk_data] Downloading package punkt to /root/nltk_data...\n",
            "[nltk_data]   Unzipping tokenizers/punkt.zip.\n"
          ]
        },
        {
          "output_type": "execute_result",
          "data": {
            "text/plain": [
              "True"
            ]
          },
          "metadata": {},
          "execution_count": 14
        }
      ],
      "source": [
        "# Import word_tokenize and downlaoding punkt\n",
        "\n",
        "import nltk\n",
        "\n",
        "from nltk import word_tokenize\n",
        "nltk.download(\"punkt\")"
      ]
    },
    {
      "cell_type": "code",
      "execution_count": null,
      "metadata": {
        "id": "IOeYpeyFbaUN"
      },
      "outputs": [],
      "source": []
    },
    {
      "cell_type": "code",
      "execution_count": null,
      "metadata": {
        "id": "VpOnO6YIbuRB"
      },
      "outputs": [],
      "source": [
        "import gensim \n",
        "\n",
        "from gensim.models import Word2Vec "
      ]
    },
    {
      "cell_type": "code",
      "execution_count": null,
      "metadata": {
        "id": "qY9KCjMKePY4"
      },
      "outputs": [],
      "source": [
        "word2vec_model = gensim.models.Word2Vec(list_of_words, window=5, min_count=2);"
      ]
    },
    {
      "cell_type": "code",
      "execution_count": null,
      "metadata": {
        "id": "L7Kfr4uOfARe"
      },
      "outputs": [],
      "source": [
        "processed_data = []\n",
        "\n",
        "for words in tqdm(list_of_words):\n",
        "  processed_data.append(np.mean([word2vec_model.wv[word] for word in words if word in word2vec_model.wv.index2word], axis=0))"
      ]
    },
    {
      "cell_type": "code",
      "execution_count": null,
      "metadata": {
        "id": "JbCGKq38o4c3"
      },
      "outputs": [],
      "source": []
    },
    {
      "cell_type": "markdown",
      "metadata": {
        "id": "3c51wJVxo4w6"
      },
      "source": [
        "# **EXECUTE**"
      ]
    },
    {
      "cell_type": "markdown",
      "metadata": {
        "id": "tLnzRC5lKKTl"
      },
      "source": [
        "# MODEL"
      ]
    },
    {
      "cell_type": "code",
      "source": [
        "# Importing the necessary libraries to covert the model into LSTM RNN \n",
        "\n",
        "import tensorflow\n",
        "from tensorflow import keras \n",
        "\n",
        "from keras.preprocessing.text import one_hot"
      ],
      "metadata": {
        "id": "pJvqHfGipsqr"
      },
      "execution_count": 13,
      "outputs": []
    },
    {
      "cell_type": "code",
      "source": [],
      "metadata": {
        "id": "qrO8JyGb4_T3"
      },
      "execution_count": null,
      "outputs": []
    }
  ],
  "metadata": {
    "accelerator": "GPU",
    "colab": {
      "collapsed_sections": [],
      "machine_shape": "hm",
      "provenance": [],
      "authorship_tag": "ABX9TyPqXfLdpcRpZS5uhr4DZG3v",
      "include_colab_link": true
    },
    "gpuClass": "premium",
    "kernelspec": {
      "display_name": "Python 3",
      "name": "python3"
    },
    "language_info": {
      "name": "python"
    }
  },
  "nbformat": 4,
  "nbformat_minor": 0
}